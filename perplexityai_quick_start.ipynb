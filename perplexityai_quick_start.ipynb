{
 "cells": [
  {
   "cell_type": "code",
   "execution_count": 1,
   "metadata": {},
   "outputs": [],
   "source": [
    "import os\n",
    "from dotenv import load_dotenv\n",
    "\n",
    "# Load the variables from .env\n",
    "load_dotenv()  \n",
    "\n",
    "# Access the API key  (https://www.perplexity.ai/settings/api)\n",
    "PPX_API_KEY = os.getenv(\"PPX_API_KEY\")"
   ]
  },
  {
   "cell_type": "code",
   "execution_count": 5,
   "metadata": {},
   "outputs": [
    {
     "name": "stdout",
     "output_type": "stream",
     "text": [
      "{'id': '2beaa384-dbf5-4bd0-9c0a-cfd5b028eff2', 'model': 'llama-3.1-sonar-small-128k-online', 'created': 1735023253, 'usage': {'prompt_tokens': 47, 'completion_tokens': 221, 'total_tokens': 268}, 'citations': ['https://www.jagranjosh.com/general-knowledge/border-gavaskar-trophy-bgt-2024-2025-match-schedule-time-venue-team-squad-where-to-watch-1730714624-1', 'https://www.indiatimes.com/news/sports/border-gavaskar-trophy-bgt-2024-25-ind-vs-aus-full-schedule-match-timings-squads-venues-results-and-live-streaming-details-646205.html', 'https://www.sportingnews.com/au/cricket/news/pujara-australia-strategy-india-follow-rain-gabba-test-brisbane/b3b75c40748e12ce3b4c3732', 'https://timesofindia.indiatimes.com/sports/cricket/india-in-australia/bgt-schedule-2024-25-ind-vs-aus-test-series-full-schedule-date-time-venues-squads-and-everything-you-need-to-know/articleshow/115404512.cms', 'https://www.thecricketpanda.com/border-gavaskar-trophy-2024-25/'], 'object': 'chat.completion', 'choices': [{'index': 0, 'finish_reason': 'stop', 'message': {'role': 'assistant', 'content': '### Border Gavaskar Trophy 2024-25 Details\\n\\n**Next Match Venue:**\\nThe next match in the Border Gavaskar Trophy 2024-25 is scheduled to be played at **Adelaide Oval** in Adelaide, Australia, from **December 6-10, 2024**[2][4].\\n\\n**Weather Prediction:**\\nAs of the latest reports, there is no specific weather prediction mentioned for the upcoming matches. However, it is noted that rain has already played a crucial role in shaping the third Test at the Gabba in Brisbane, with Cheteshwar Pujara predicting that Australia might enforce a follow-on to push for a result in a rain-affected scenario[3].\\n\\n**Australian Cricket Team Strategy:**\\nCheteshwar Pujara predicts that Australia might focus on setting a massive first innings score of 450-475 runs before declaring in the third Test at the Gabba, given the reduced time due to rain interruptions. This strategy aims to give Australia the best chance of securing a win in a rain-hit match[3].'}, 'delta': {'role': 'assistant', 'content': ''}}]}\n"
     ]
    }
   ],
   "source": [
    "import requests\n",
    "import json\n",
    "import os\n",
    "\n",
    "# https://docs.perplexity.ai/guides/getting-started   -> code # schema provided is taken from perplexity documentation\n",
    "# This link can be found from https://docs.perplexity.ai/api-reference/chat-completions  (there is a copy option beside send)\n",
    "url = \"https://api.perplexity.ai/chat/completions\"\n",
    "\n",
    "headers = {\n",
    "    'Accept': 'application/json',\n",
    "    'Content-Type': 'application/json',\n",
    "    'Authorization': f'Bearer {PPX_API_KEY}'\n",
    "}\n",
    "\n",
    "body = {\n",
    "    \"model\": \"llama-3.1-sonar-small-128k-online\",\n",
    "    \"stream\": False,\n",
    "    \"max_tokens\": 1024,\n",
    "    \"frequency_penalty\": 1,\n",
    "    \"temperature\": 0.0,\n",
    "    \"messages\": [\n",
    "        \n",
    "        {\n",
    "            \"role\": \"system\",\n",
    "            \"content\": \"Be precise and concise in your response.\"\n",
    "        },\n",
    "        {\n",
    "            \"role\": \"user\",\n",
    "            \"content\": \"Can you tell me about Border Gavaskar Trophy 2024, where is the next match going to be played, the prediction for weather condition and what is the strategy of Australian cricket team\"\n",
    "        }\n",
    "        \n",
    "    ]\n",
    "}\n",
    "\n",
    "response = requests.post(url, headers=headers, data=json.dumps(body))\n",
    "if response.status_code == 200:\n",
    "    data = response.json()\n",
    "    print(data)\n",
    "else:\n",
    "    print(f\"Error: {response.status_code}, {response.text}\")    "
   ]
  },
  {
   "cell_type": "code",
   "execution_count": 6,
   "metadata": {},
   "outputs": [
    {
     "name": "stdout",
     "output_type": "stream",
     "text": [
      "{'id': 'c60fb22c-aad0-492f-be57-f2c5bc2c51b2', 'model': 'llama-3.1-sonar-small-128k-online', 'created': 1735023426, 'usage': {'prompt_tokens': 50, 'completion_tokens': 414, 'total_tokens': 464}, 'citations': ['https://www.jagranjosh.com/general-knowledge/border-gavaskar-trophy-bgt-2024-2025-match-schedule-time-venue-team-squad-where-to-watch-1730714624-1', 'https://www.thestatszone.com/australia-vs-india-preview-team-news-prediction-4th-test-106103', 'https://timesofindia.indiatimes.com/sports/cricket/india-in-australia/bgt-schedule-2024-25-ind-vs-aus-test-series-full-schedule-date-time-venues-squads-and-everything-you-need-to-know/articleshow/115404512.cms', 'https://www.youtube.com/watch?v=U4f4rZ7BhZw', 'https://topsportsinsight.com/border-gavaskar-trophy-2024-rain-interruptions-and-key-milestones-in-the-fourth-test/'], 'object': 'chat.completion', 'choices': [{'index': 0, 'finish_reason': 'stop', 'message': {'role': 'assistant', 'content': \"### Border Gavaskar Trophy 2024\\n\\n- **Series Overview**: The Border Gavaskar Trophy 2024 is a five-Test series between India and Australia, starting on November 22, 2024, at Perth Stadium, Perth[1][3].\\n- **Venues**:\\n  - 1st Test: Perth Stadium, Perth (November 22–26, 2024)\\n  - 2nd Test: Adelaide Oval, Adelaide (December 6–10, 2024)\\n  - 3rd Test: The Gabba, Brisbane (December 14–18, 2024)\\n  - 4th Test: Melbourne Cricket Ground (MCG), Melbourne (December 26–30, 2024)\\n  - 5th Test: Sydney Cricket Ground, Sydney (January 3–7, 2025)[1][3]\\n\\n### 4th Test Match\\n\\n- **Venue**: Melbourne Cricket Ground (MCG), Melbourne[3].\\n- **Weather Prediction**: The weather is expected to be sunny with some cloud cover on days two and three, and extremely hot conditions on day one, with temperatures reaching the high thirties[2].\\n\\n### Australian Cricket Team Strategy\\n\\nThe Australian team is likely to focus on several key strategies to counter India:\\n\\n1. **Weather Adaptation**: Given the potential for rain disruptions, Australia might plan to adapt their strategies to accommodate weather conditions, ensuring they can capitalize on any favorable conditions[5].\\n2. **Home Ground Advantage**: Playing at iconic Australian grounds like the MCG, Australia will aim to utilize home ground advantages, including crowd support and familiar conditions[4].\\n3. **Balanced Squad**: Australia will likely field a balanced squad with a mix of experienced players and young talent, aiming to counter India's strong batting lineup with a solid bowling attack[2].\\n\\nThese strategies will be crucial as Australia looks to stop India's bid to win their third successive Test series in Australia and reclaim the Border Gavaskar Trophy[3].\"}, 'delta': {'role': 'assistant', 'content': ''}}]}\n"
     ]
    }
   ],
   "source": [
    "body = {\n",
    "    \"model\": \"llama-3.1-sonar-small-128k-online\",\n",
    "    \"stream\": False,\n",
    "    \"max_tokens\": 1024,\n",
    "    \"frequency_penalty\": 1,\n",
    "    \"temperature\": 0.0,\n",
    "    \"messages\": [\n",
    "        \n",
    "        {\n",
    "            \"role\": \"system\",\n",
    "            \"content\": \"Be precise and concise in your response.\"\n",
    "        },\n",
    "        {\n",
    "            \"role\": \"user\",\n",
    "            \"content\": \"Can you tell me about Border Gavaskar Trophy 2024, where is the 4th test match going to be played, the prediction for weather condition and what is the strategy of Australian cricket team\"\n",
    "        }\n",
    "        \n",
    "    ]\n",
    "}\n",
    "\n",
    "response = requests.post(url, headers=headers, data=json.dumps(body))\n",
    "if response.status_code == 200:\n",
    "    data = response.json()\n",
    "    print(data)\n",
    "else:\n",
    "    print(f\"Error: {response.status_code}, {response.text}\")    "
   ]
  },
  {
   "cell_type": "code",
   "execution_count": 7,
   "metadata": {},
   "outputs": [
    {
     "name": "stdout",
     "output_type": "stream",
     "text": [
      "{'id': '2b885917-2a47-41c0-9122-3c844ae02dd8', 'model': 'llama-3.1-sonar-small-128k-online', 'created': 1735023656, 'usage': {'prompt_tokens': 44, 'completion_tokens': 180, 'total_tokens': 224}, 'citations': ['https://sports.ndtv.com/australia-vs-india-2024-25/they-will-cook-jasprit-bumrah-australias-smart-strategy-against-india-revealed-6961925', 'https://www.thestatszone.com/australia-vs-india-preview-team-news-prediction-4th-test-106103', 'https://www.youtube.com/watch?v=U4f4rZ7BhZw', 'https://crickettimes.com/2024/12/sunil-gavaskar-proposes-strategy-for-indias-success-in-the-remaining-tests-against-australia/', 'https://cricfit.com/melbourne-weather-update-rain-expected-on-at-least-two-days-of-mcg-test/'], 'object': 'chat.completion', 'choices': [{'index': 0, 'finish_reason': 'stop', 'message': {'role': 'assistant', 'content': \"The 4th test match of the Border-Gavaskar Trophy is scheduled to be played at the Melbourne Cricket Ground (MCG) in Melbourne, Australia.\\n\\n**Weather Prediction:**\\nThe weather forecast for the fourth test in Melbourne indicates sunshine likely across all five scheduled days, albeit with some cloud cover on days two and three. Extremely hot conditions are expected on day one, with temperatures reaching the high thirties[2].\\n\\n**Australian Cricket Team Strategy:**\\nAustralia's strategy involves leveraging the scheduling to counter India's key bowler, Jasprit Bumrah. They have planned to tire him out with the first test in Perth, followed by a pink-ball test in Adelaide, which may force India to rest him in the middle of the series. This approach aims to make Bumrah bowl a lot of overs, potentially leading to a change in India's bowling lineup[1].\"}, 'delta': {'role': 'assistant', 'content': ''}}]}\n"
     ]
    }
   ],
   "source": [
    "body = {\n",
    "    \"model\": \"llama-3.1-sonar-small-128k-online\",\n",
    "    \"stream\": False,\n",
    "    \"max_tokens\": 1024,\n",
    "    \"frequency_penalty\": 1,\n",
    "    \"temperature\": 0.0,\n",
    "    \"messages\": [\n",
    "        \n",
    "        {\n",
    "            \"role\": \"system\",\n",
    "            \"content\": \"Be precise and concise in your response.\"\n",
    "        },\n",
    "        {\n",
    "            \"role\": \"user\",\n",
    "            \"content\": \"Where is the 4th test match going to be played in the recent Border Gavaskar trophy, the prediction for weather condition and what is the strategy of Australian cricket team\"\n",
    "        }\n",
    "        \n",
    "    ]\n",
    "}\n",
    "\n",
    "response = requests.post(url, headers=headers, data=json.dumps(body))\n",
    "if response.status_code == 200:\n",
    "    data = response.json()\n",
    "    print(data)\n",
    "else:\n",
    "    print(f\"Error: {response.status_code}, {response.text}\")    "
   ]
  },
  {
   "cell_type": "code",
   "execution_count": 8,
   "metadata": {},
   "outputs": [
    {
     "name": "stdout",
     "output_type": "stream",
     "text": [
      "Error: 400, {\"error\":{\"message\":\"Invalid model 'llama-3-sonar-small-32k-online'. Permitted models can be found in the documentation at https://docs.perplexity.ai/docs/model-cards.\",\"type\":\"invalid_model\",\"code\":400}}\n"
     ]
    }
   ],
   "source": [
    "body = {\n",
    "    \"model\": \"llama-3-sonar-small-32k-online\",\n",
    "    \"stream\": False,\n",
    "    \"max_tokens\": 1024,\n",
    "    \"frequency_penalty\": 1,\n",
    "    \"temperature\": 0.0,\n",
    "    \"messages\": [\n",
    "        \n",
    "        {\n",
    "            \"role\": \"system\",\n",
    "            \"content\": \"Be precise and concise in your response.\"\n",
    "        },\n",
    "        {\n",
    "            \"role\": \"user\",\n",
    "            \"content\": \"What is today's date?\"\n",
    "        }\n",
    "        \n",
    "    ]\n",
    "}\n",
    "\n",
    "response = requests.post(url, headers=headers, data=json.dumps(body))\n",
    "if response.status_code == 200:\n",
    "    data = response.json()\n",
    "    print(data)\n",
    "else:\n",
    "    print(f\"Error: {response.status_code}, {response.text}\")    "
   ]
  },
  {
   "cell_type": "code",
   "execution_count": 9,
   "metadata": {},
   "outputs": [
    {
     "name": "stdout",
     "output_type": "stream",
     "text": [
      "{'id': '9f3a5cdc-69e3-4692-a906-9866a20d2cac', 'model': 'llama-3.1-sonar-small-128k-online', 'created': 1735023749, 'usage': {'prompt_tokens': 14, 'completion_tokens': 21, 'total_tokens': 35}, 'citations': ['https://ourhappycorner.com/todays-date/', 'https://www.saturdaygift.com/todays-date/', 'https://www.inchcalculator.com/what-is-todays-date/', 'https://bluenotary.us/today-s-date/', 'https://www.epochconverter.com/daynumbers'], 'object': 'chat.completion', 'choices': [{'index': 0, 'finish_reason': 'stop', 'message': {'role': 'assistant', 'content': \"Today's date is **Monday, December 23, 2024**[2][3].\"}, 'delta': {'role': 'assistant', 'content': ''}}]}\n"
     ]
    }
   ],
   "source": [
    "body = {\n",
    "    \"model\": \"llama-3.1-sonar-small-128k-online\",\n",
    "    \"stream\": False,\n",
    "    \"max_tokens\": 1024,\n",
    "    \"frequency_penalty\": 1,\n",
    "    \"temperature\": 0.0,\n",
    "    \"messages\": [\n",
    "        \n",
    "        {\n",
    "            \"role\": \"system\",\n",
    "            \"content\": \"Be precise and concise in your response.\"\n",
    "        },\n",
    "        {\n",
    "            \"role\": \"user\",\n",
    "            \"content\": \"What is today's date?\"\n",
    "        }\n",
    "        \n",
    "    ]\n",
    "}\n",
    "\n",
    "response = requests.post(url, headers=headers, data=json.dumps(body))\n",
    "if response.status_code == 200:\n",
    "    data = response.json()\n",
    "    print(data)\n",
    "else:\n",
    "    print(f\"Error: {response.status_code}, {response.text}\")    "
   ]
  },
  {
   "cell_type": "code",
   "execution_count": 11,
   "metadata": {},
   "outputs": [
    {
     "name": "stdout",
     "output_type": "stream",
     "text": [
      "{'id': '07a95917-d46a-4cd7-a43e-8163fd4b51a6', 'model': 'llama-3.1-sonar-small-128k-online', 'created': 1735023861, 'usage': {'prompt_tokens': 25, 'completion_tokens': 31, 'total_tokens': 56}, 'citations': ['https://clocks.world/time/india/', 'https://savvytime.com/converter/ast-to-ist', 'https://www.utctime.net/ist-indian-time-now', 'https://www.timeanddate.com/worldclock/india/hyderabad', 'https://time.is/IST'], 'object': 'chat.completion', 'choices': [{'index': 0, 'finish_reason': 'stop', 'message': {'role': 'assistant', 'content': 'As of December 24, 2024, the current time in India Standard Time (IST) is 04:50:30[3].'}, 'delta': {'role': 'assistant', 'content': ''}}]}\n"
     ]
    }
   ],
   "source": [
    "body = {\n",
    "    \"model\": \"llama-3.1-sonar-small-128k-online\",\n",
    "    \"stream\": False,\n",
    "    \"max_tokens\": 1024,\n",
    "    \"frequency_penalty\": 1,\n",
    "    \"temperature\": 0.0,\n",
    "    \"messages\": [\n",
    "        \n",
    "        {\n",
    "            \"role\": \"system\",\n",
    "            \"content\": \"Be precise and concise in your response.\"\n",
    "        },\n",
    "        {\n",
    "            \"role\": \"user\",\n",
    "            \"content\": \"What is today's date and time in hour and minutes as per Indian Standard Time?\"\n",
    "        }\n",
    "        \n",
    "    ]\n",
    "}\n",
    "\n",
    "response = requests.post(url, headers=headers, data=json.dumps(body))\n",
    "if response.status_code == 200:\n",
    "    data = response.json()\n",
    "    print(data)\n",
    "else:\n",
    "    print(f\"Error: {response.status_code}, {response.text}\")  "
   ]
  },
  {
   "cell_type": "code",
   "execution_count": 15,
   "metadata": {},
   "outputs": [
    {
     "data": {
      "text/plain": [
       "requests.models.Response"
      ]
     },
     "execution_count": 15,
     "metadata": {},
     "output_type": "execute_result"
    }
   ],
   "source": [
    "type(response)"
   ]
  },
  {
   "cell_type": "code",
   "execution_count": 16,
   "metadata": {},
   "outputs": [
    {
     "data": {
      "text/plain": [
       "{'id': '07a95917-d46a-4cd7-a43e-8163fd4b51a6',\n",
       " 'model': 'llama-3.1-sonar-small-128k-online',\n",
       " 'created': 1735023861,\n",
       " 'usage': {'prompt_tokens': 25, 'completion_tokens': 31, 'total_tokens': 56},\n",
       " 'citations': ['https://clocks.world/time/india/',\n",
       "  'https://savvytime.com/converter/ast-to-ist',\n",
       "  'https://www.utctime.net/ist-indian-time-now',\n",
       "  'https://www.timeanddate.com/worldclock/india/hyderabad',\n",
       "  'https://time.is/IST'],\n",
       " 'object': 'chat.completion',\n",
       " 'choices': [{'index': 0,\n",
       "   'finish_reason': 'stop',\n",
       "   'message': {'role': 'assistant',\n",
       "    'content': 'As of December 24, 2024, the current time in India Standard Time (IST) is 04:50:30[3].'},\n",
       "   'delta': {'role': 'assistant', 'content': ''}}]}"
      ]
     },
     "execution_count": 16,
     "metadata": {},
     "output_type": "execute_result"
    }
   ],
   "source": [
    "response.json()"
   ]
  },
  {
   "cell_type": "code",
   "execution_count": 17,
   "metadata": {},
   "outputs": [
    {
     "name": "stdout",
     "output_type": "stream",
     "text": [
      "{'id': '2a4688b6-2f16-4f2c-84db-809c67553a68', 'model': 'llama-3.1-sonar-small-128k-online', 'created': 1735026676, 'usage': {'prompt_tokens': 14, 'completion_tokens': 233, 'total_tokens': 247}, 'citations': ['https://www.sloansportsconference.com/people/rahul-dravid', 'https://en.wikipedia.org/wiki/Rahul_Dravid', 'https://www.javatpoint.com/rahul-dravid', 'https://us.londonspeakerbureau.com/speaker-profile/rahul-dravid/', 'https://sports.ndtv.com/cricket/players/174-rahul-dravid-playerprofile'], 'object': 'chat.completion', 'choices': [{'index': 0, 'finish_reason': 'stop', 'message': {'role': 'assistant', 'content': 'Rahul Dravid is a former Indian cricketer and one of the greatest batsmen in the history of cricket. Born on January 11, 1973, in Indore, Madhya Pradesh, he is known for his outstanding batting technique and defensive play, earning him the nickname \"The Wall.\" Dravid played for the Indian national team in both Test and One Day International (ODI) cricket, captaining the team in several matches. He is a record holder in Test cricket, having scored 13,288 runs in 164 Tests and 10,889 runs in 344 ODIs. Dravid was inducted into the ICC Hall of Fame in 2018 and has received numerous awards, including the ICC Cricketer of the Year and the Padma Shri and Padma Bhushan, India\\'s fourth and third highest civilian awards respectively[1][2][4]. After retiring from international cricket in 2012, he has been involved in coaching, serving as the Head Coach of the India Under-19 team and later as the Director of Cricket Operations at the National Cricket Academy[1][2][3].'}, 'delta': {'role': 'assistant', 'content': ''}}]}\n"
     ]
    }
   ],
   "source": [
    "body = {\n",
    "    \"model\": \"llama-3.1-sonar-small-128k-online\",\n",
    "    \"stream\": False,\n",
    "    \"max_tokens\": 1024,\n",
    "    \"frequency_penalty\": 1,\n",
    "    \"temperature\": 0.0,\n",
    "    \"messages\": [\n",
    "        \n",
    "        {\n",
    "            \"role\": \"system\",\n",
    "            \"content\": \"Be precise and concise in your response.\"\n",
    "        },\n",
    "        {\n",
    "            \"role\": \"user\",\n",
    "            \"content\": \"Who is Rahul Dravid?\"\n",
    "        }\n",
    "        \n",
    "    ]\n",
    "}\n",
    "\n",
    "response = requests.post(url, headers=headers, data=json.dumps(body))\n",
    "if response.status_code == 200:\n",
    "    data = response.json()\n",
    "    print(data)\n",
    "else:\n",
    "    print(f\"Error: {response.status_code}, {response.text}\")  "
   ]
  },
  {
   "cell_type": "code",
   "execution_count": 18,
   "metadata": {},
   "outputs": [
    {
     "name": "stdout",
     "output_type": "stream",
     "text": [
      "{'id': 'd26fc1d2-d587-499b-b98f-2efeb3c94d96', 'model': 'llama-3.1-sonar-small-128k-online', 'created': 1735026736, 'usage': {'prompt_tokens': 17, 'completion_tokens': 242, 'total_tokens': 259}, 'citations': ['https://en.wikipedia.org/wiki/List_of_ODI_awards_for_Sachin_Tendulkar', 'https://www.sportskeeda.com/player/sachin-tendulkar', 'https://sports.ndtv.com/cricket/players/14-sachin-tendulkar-playerprofile', 'https://www.youtube.com/watch?v=EpG7eh7pH54', 'https://www.espncricinfo.com/cricketers/sachin-tendulkar-35320'], 'object': 'chat.completion', 'choices': [{'index': 0, 'finish_reason': 'stop', 'message': {'role': 'assistant', 'content': \"Sachin Ramesh Tendulkar is a former Indian international cricketer widely regarded as one of the greatest batsmen in the history of cricket. Born on April 24, 1973, in Bombay (now Mumbai), Maharashtra, he made his Test debut at 16 years old against Pakistan in 1989 and went on to play for over 24 years, representing Mumbai domestically and India internationally[1][2][3].\\n\\nTendulkar holds numerous records, including the highest run-scorer in both Test and One-Day International (ODI) cricket, with over 18,000 and 15,000 runs respectively. He is also the first player to score a double century in an ODI and holds the record for the most player of the match awards in international cricket[1][2][3].\\n\\nTendulkar's career spanned two and a half decades, during which he inspired a billion Indians and became a symbol of Indian cricket. He was conferred the Bharat Ratna, India's highest civilian honor, in 2014, and his contributions to cricket extend beyond his playing career, influencing generations of cricketers[3][4].\"}, 'delta': {'role': 'assistant', 'content': ''}}]}\n"
     ]
    }
   ],
   "source": [
    "body = {\n",
    "    \"model\": \"llama-3.1-sonar-small-128k-online\",\n",
    "    \"stream\": False,\n",
    "    \"max_tokens\": 1024,\n",
    "    \"frequency_penalty\": 1,\n",
    "    \"temperature\": 0.0,\n",
    "    \"messages\": [\n",
    "        \n",
    "        {\n",
    "            \"role\": \"system\",\n",
    "            \"content\": \"Be precise and concise in your response.\"\n",
    "        },\n",
    "        {\n",
    "            \"role\": \"user\",\n",
    "            \"content\": \"Who is Sachin Tendulkar?\"\n",
    "        }\n",
    "        \n",
    "    ]\n",
    "}\n",
    "\n",
    "response = requests.post(url, headers=headers, data=json.dumps(body))\n",
    "if response.status_code == 200:\n",
    "    data = response.json()\n",
    "    print(data)\n",
    "else:\n",
    "    print(f\"Error: {response.status_code}, {response.text}\")  "
   ]
  },
  {
   "cell_type": "code",
   "execution_count": 19,
   "metadata": {},
   "outputs": [
    {
     "name": "stdout",
     "output_type": "stream",
     "text": [
      "{'id': '417775de-9523-4cdf-b4a6-7f8bc3168d9b', 'model': 'llama-3.1-sonar-small-128k-online', 'created': 1735026814, 'usage': {'prompt_tokens': 18, 'completion_tokens': 312, 'total_tokens': 330}, 'citations': ['https://americaninnovationindex.com/industry-benchmarks/', 'https://mackinstitute.wharton.upenn.edu/2020/innovation-metrics-for-success-digital-era/', 'https://www.adlittle.com/en/innovex', 'https://digitalleadership.com/blog/how-to-measure-innovation/', 'https://www.bcg.com/capabilities/innovation-strategy-delivery/innovation-benchmarking-tool'], 'object': 'chat.completion', 'choices': [{'index': 0, 'finish_reason': 'stop', 'message': {'role': 'assistant', 'content': \"To measure innovation in the IT industry, several benchmarks and metrics can be used. Here are some key ones:\\n\\n1. **American Innovation Index**:\\n   - **Score**: Companies are ranked based on their American Innovation Index and Social Innovation Index scores, which reflect customer experiences and innovation performance[1].\\n\\n2. **Innovation Metrics**:\\n   - **Innovation Rate**: Revenue share of innovations divided by total revenue, multiplied by 100[4].\\n   - **Innovation Ratio**: Number of innovations divided by the number of products, multiplied by 100[4].\\n   - **Degree of Innovation**: Measures the novelty of purpose-means combination[4].\\n\\n3. **BCG's i2i Innovation Benchmarking Tool**:\\n   - Evaluates relative strength on ten innovation system factors essential to innovation success, including innovation strategy, operating model, and critical capabilities[5].\\n\\n4. **Arthur D. Little's Global Innovation Excellence Benchmark**:\\n   - Assesses both innovation performance and innovation management approach, incorporating best practices in R&D, Agile ways of working, digitally-enabled innovation, and more[3].\\n\\n5. **Input and Output Metrics**:\\n   - **Input Metrics**: R&D spending, number of R&D projects in active development, and human resources devoted to innovation[2].\\n   - **Output Metrics**: Number of new products launched, revenue generated from new products, and customer satisfaction[2][4].\\n\\nThese benchmarks provide a comprehensive framework for measuring innovation in the IT industry, covering both the inputs and outputs of innovation processes.\"}, 'delta': {'role': 'assistant', 'content': ''}}]}\n"
     ]
    }
   ],
   "source": [
    "body = {\n",
    "    \"model\": \"llama-3.1-sonar-small-128k-online\",\n",
    "    \"stream\": False,\n",
    "    \"max_tokens\": 1024,\n",
    "    \"frequency_penalty\": 1,\n",
    "    \"temperature\": 0.0,\n",
    "    \"messages\": [\n",
    "        \n",
    "        {\n",
    "            \"role\": \"system\",\n",
    "            \"content\": \"Be precise and concise in your response.\"\n",
    "        },\n",
    "        {\n",
    "            \"role\": \"user\",\n",
    "            \"content\": \"What are some IT industry benchmark for measuring innovation?\"\n",
    "        }\n",
    "        \n",
    "    ]\n",
    "}\n",
    "\n",
    "response = requests.post(url, headers=headers, data=json.dumps(body))\n",
    "if response.status_code == 200:\n",
    "    data = response.json()\n",
    "    print(data)\n",
    "else:\n",
    "    print(f\"Error: {response.status_code}, {response.text}\")  "
   ]
  },
  {
   "cell_type": "code",
   "execution_count": 20,
   "metadata": {},
   "outputs": [
    {
     "name": "stdout",
     "output_type": "stream",
     "text": [
      "{'id': '223e60f6-4a0c-4a7e-ba52-34fbd5cb3e2b', 'model': 'llama-3.1-sonar-small-128k-online', 'created': 1735026878, 'usage': {'prompt_tokens': 18, 'completion_tokens': 289, 'total_tokens': 307}, 'citations': ['https://www.channelinsider.com/managed-services/generative-ai-developments-trends-year-in-review/', 'https://www.alpha-sense.com/blog/trends/generative-ai-2024/', 'https://www.spglobal.com/market-intelligence/en/news-insights/research/generative-ai-digest-a-roundup-of-latest-breakthroughs-and-developments', 'https://menlovc.com/2024-the-state-of-generative-ai-in-the-enterprise/', 'https://khoros.com/blog/ai-trends'], 'object': 'chat.completion', 'choices': [{'index': 0, 'finish_reason': 'stop', 'message': {'role': 'assistant', 'content': \"Recent developments in Generative AI include:\\n\\n1. **Multimodal Capabilities**: Models like Anthropic's Claude 3 and OpenAI's GPT-4o can process and generate multiple types of content simultaneously, such as text-to-image generation and text-based video creation[2][5].\\n\\n2. **Improved Accuracy and Cost Efficiency**: Generative AI models have become more reliable and affordable, with advancements from OpenAI, Google, and Anthropic. For example, OpenAI's o1 models have shown significant improvements in logical reasoning tasks, although they can be more expensive[2][3].\\n\\n3. **Practical Applications**: Generative AI is being integrated into various industries, including healthcare, IT, retail, and defense. Use cases such as code copilots, personalized content creation, and customer support automation are gaining traction[1][2][4].\\n\\n4. **Enterprise Adoption**: Enterprises are increasingly committing to generative AI, with 72% of decision-makers anticipating broader adoption in the near future. This is reflected in the significant increase in spending on generative AI applications, from $600 million in 2023 to $4.6 billion in 2024[4].\\n\\n5. **Customizable Models**: The need for customizable AI models is growing, particularly in industries like healthcare, legal, and financial services. This trend is driven by the demand for personalized services and improved data privacy and security[5].\"}, 'delta': {'role': 'assistant', 'content': ''}}]}\n"
     ]
    }
   ],
   "source": [
    "body = {\n",
    "    \"model\": \"llama-3.1-sonar-small-128k-online\",\n",
    "    \"stream\": False,\n",
    "    \"max_tokens\": 1024,\n",
    "    \"frequency_penalty\": 1,\n",
    "    \"temperature\": 0.0,\n",
    "    \"messages\": [\n",
    "        \n",
    "        {\n",
    "            \"role\": \"system\",\n",
    "            \"content\": \"Be precise and concise in your response.\"\n",
    "        },\n",
    "        {\n",
    "            \"role\": \"user\",\n",
    "            \"content\": \"What are some recent developments in Generative AI?\"\n",
    "        }\n",
    "        \n",
    "    ]\n",
    "}\n",
    "\n",
    "response = requests.post(url, headers=headers, data=json.dumps(body))\n",
    "if response.status_code == 200:\n",
    "    data = response.json()\n",
    "    print(data)\n",
    "else:\n",
    "    print(f\"Error: {response.status_code}, {response.text}\")  "
   ]
  },
  {
   "cell_type": "code",
   "execution_count": 21,
   "metadata": {},
   "outputs": [
    {
     "name": "stdout",
     "output_type": "stream",
     "text": [
      "{'id': 'beb8aa06-501e-4743-b53c-a620a361e796', 'model': 'llama-3.1-sonar-small-128k-online', 'created': 1735026946, 'usage': {'prompt_tokens': 27, 'completion_tokens': 269, 'total_tokens': 296}, 'citations': ['https://www.servicenow.com/company/locations.html', 'https://careers.servicenow.com/locations/apj/india/', 'https://www.welcomepickups.com/hyderabad/airport-to-city/', 'https://www.hyderabad.aero/to-and-from-airport.aspx', 'https://builtin.com/company/servicenow/offices'], 'object': 'chat.completion', 'choices': [{'index': 0, 'finish_reason': 'stop', 'message': {'role': 'assistant', 'content': 'To get from Hyderabad Airport to the ServiceNow office in Hyderabad, you can use the following transportation options:\\n\\n1. **Taxi**: Taxis are readily available at the airport. The journey typically takes about 40 minutes, depending on traffic conditions[3][4].\\n\\n2. **Car Rental**: You can book a luxury car or a corporate car rental service like Srinivasa Rent A Cab, which offers neat and clean cars with professional chauffeurs[4].\\n\\n3. **Ride-hailing Services**: Services like Meru and Skycabs operate from the airport and can be booked through their apps or by calling their customer service numbers[4].\\n\\n4. **Public Transport**: While not the most convenient option, you can also use public buses from the airport to the city center and then take a taxi or ride-hailing service to reach the ServiceNow office.\\n\\nThe ServiceNow office in Hyderabad is located at Salarpuria Sattva Knowledge City, Plot No 2, Survey No 83/1, 1st, 2nd, 10-12, 14th-17th Floor, Inorbit Mall Road, Raidurg Village, Hyderabad, India, 500081[5]. \\n\\nUsing a taxi or ride-hailing service is likely the most efficient way to reach the office from the airport.'}, 'delta': {'role': 'assistant', 'content': ''}}]}\n"
     ]
    }
   ],
   "source": [
    "body = {\n",
    "    \"model\": \"llama-3.1-sonar-small-128k-online\",\n",
    "    \"stream\": False,\n",
    "    \"max_tokens\": 1024,\n",
    "    \"frequency_penalty\": 1,\n",
    "    \"temperature\": 0.0,\n",
    "    \"messages\": [\n",
    "        \n",
    "        {\n",
    "            \"role\": \"system\",\n",
    "            \"content\": \"Be precise and concise in your response.\"\n",
    "        },\n",
    "        {\n",
    "            \"role\": \"user\",\n",
    "            \"content\": \"What is the best route to go from Hyderabad Airport to Servicenow office in Hyderabad?\"\n",
    "        }\n",
    "        \n",
    "    ]\n",
    "}\n",
    "\n",
    "response = requests.post(url, headers=headers, data=json.dumps(body))\n",
    "if response.status_code == 200:\n",
    "    data = response.json()\n",
    "    print(data)\n",
    "else:\n",
    "    print(f\"Error: {response.status_code}, {response.text}\")  "
   ]
  },
  {
   "cell_type": "code",
   "execution_count": 22,
   "metadata": {},
   "outputs": [
    {
     "name": "stdout",
     "output_type": "stream",
     "text": [
      "{'id': '888091ed-14aa-4a62-bcf0-cda391f77680', 'model': 'llama-3.1-sonar-small-128k-online', 'created': 1735026983, 'usage': {'prompt_tokens': 17, 'completion_tokens': 487, 'total_tokens': 504}, 'citations': ['https://multiply.info/LongMultiplication/How-to-calculate-45-multiplied-by-21-using-long-multiplication.html', 'https://math.answers.com/math-and-arithmetic/How_many_times_does_21_go_into_45', 'https://www.multiplication.one/times-tables/21-times-table/200', 'https://www.calculatorsoup.com/calculators/math/longmultiplication.php', 'https://web2.0calc.com/questions/what-is-45-to-21-equal'], 'object': 'chat.completion', 'choices': [{'index': 0, 'finish_reason': 'stop', 'message': {'role': 'assistant', 'content': 'To calculate \\\\(21 \\\\times 45\\\\), you can use long multiplication. Here are the steps:\\n\\n1. **Setup:**\\n   \\\\[\\n   \\\\begin{array}{r}\\n   45 \\\\\\\\ \\\\times 21 \\\\\\\\ \\\\hline\\n   \\\\end{array}\\n   \\\\]\\n\\n2. **Multiply:**\\n   - Multiply \\\\(5 \\\\times 1 = 5\\\\). Write \\\\(5\\\\) below the line and carry \\\\(0\\\\):\\n     \\\\[\\n     \\\\begin{array}{r}\\n     0 \\\\\\\\ \\\\times 21 \\\\\\\\ \\\\hline\\n     5 \\\\\\\\ \\n     \\\\end{array}\\n     \\\\]\\n\\n3. **Multiply:**\\n   - Multiply \\\\(1 \\\\times 4 = 4\\\\). Add \\\\(4\\\\) to the previous result:\\n     \\\\[\\n     \\\\begin{array}{r}\\n     4 \\\\\\\\ \\\\times 21 \\\\\\\\ \\\\hline\\n     5 \\\\\\\\ +4 \\\\\\\\ \\n     \\\\end{array}\\n     \\\\]\\n\\n4. **Add 0:**\\n   - Add a \\\\(0\\\\) as a placeholder because you move over one digit:\\n     \\\\[\\n     \\\\begin{array}{r}\\n     4 \\\\\\\\ \\\\times 21 \\\\\\\\ \\\\hline\\n     5 \\\\\\\\ +4 \\\\\\\\ +0 \\\\\\\\ \\n     \\\\end{array}\\n     \\\\]\\n\\n5. **Multiply:**\\n   - Multiply \\\\(2 \\\\times 5 = 10\\\\). Write \\\\(0\\\\) below the line and carry \\\\(1\\\\):\\n     \\\\[\\n     \\\\begin{array}{r}\\n     1 \\\\\\\\ \\\\times 21 \\\\\\\\ \\\\hline\\n     5 \\\\\\\\ +4 \\\\\\\\ +0 \\\\\\\\ +10 \\\\\\\\ \\n     \\\\end{array}\\n     \\\\]\\n\\n6. **Multiply:**\\n   - Multiply \\\\(2 \\\\times 4 = 8\\\\). Add \\\\(8\\\\) to the previous result and carry \\\\(1\\\\):\\n     \\\\[\\n     \\\\begin{array}{r}\\n     9 \\\\\\\\ \\\\times 21 \\\\\\\\ \\\\hline\\n     5 \\\\\\\\ +4 \\\\\\\\ +0 \\\\\\\\ +10 \\\\\\\\ +8 \\\\\\\\ \\n     \\\\end{array}\\n     \\\\]\\n\\n7. **Add to get answer:**\\n   - Add up the bottom two numbers:\\n     \\\\[\\n     45 + 900 = 945\\n     \\\\]\\n   \\nTherefore, \\\\(21 \\\\times 45 = 945\\\\)[1][4].'}, 'delta': {'role': 'assistant', 'content': ''}}]}\n"
     ]
    }
   ],
   "source": [
    "body = {\n",
    "    \"model\": \"llama-3.1-sonar-small-128k-online\",\n",
    "    \"stream\": False,\n",
    "    \"max_tokens\": 1024,\n",
    "    \"frequency_penalty\": 1,\n",
    "    \"temperature\": 0.0,\n",
    "    \"messages\": [\n",
    "        \n",
    "        {\n",
    "            \"role\": \"system\",\n",
    "            \"content\": \"Be precise and concise in your response.\"\n",
    "        },\n",
    "        {\n",
    "            \"role\": \"user\",\n",
    "            \"content\": \"What is 21 multiplied by 45?\"\n",
    "        }\n",
    "        \n",
    "    ]\n",
    "}\n",
    "\n",
    "response = requests.post(url, headers=headers, data=json.dumps(body))\n",
    "if response.status_code == 200:\n",
    "    data = response.json()\n",
    "    print(data)\n",
    "else:\n",
    "    print(f\"Error: {response.status_code}, {response.text}\")  "
   ]
  },
  {
   "cell_type": "code",
   "execution_count": 23,
   "metadata": {},
   "outputs": [
    {
     "name": "stdout",
     "output_type": "stream",
     "text": [
      "{'id': 'f436bf75-a70c-4c93-8200-0a5c9278ac89', 'model': 'llama-3.1-sonar-small-128k-online', 'created': 1735027065, 'usage': {'prompt_tokens': 22, 'completion_tokens': 147, 'total_tokens': 169}, 'citations': ['https://www.geeksforgeeks.org/adding-new-column-to-existing-dataframe-in-pandas/', 'https://sparkbyexamples.com/pandas/pandas-sum-dataframe-columns/', 'https://sparkbyexamples.com/pandas/pandas-add-column-to-dataframe/', 'https://www.w3schools.com/python/pandas/ref_df_sum.asp', 'https://note.nkmk.me/en/python-pandas-assign-append/'], 'object': 'chat.completion', 'choices': [{'index': 0, 'finish_reason': 'stop', 'message': {'role': 'assistant', 'content': \"To add the sum of two columns in a DataFrame, you can use the following Python code with pandas:\\n\\n```python\\nimport pandas as pd\\n\\n# Create a sample DataFrame\\ndata = {'A': [1, 2, 3], 'B': [4, 5, 6]}\\ndf = pd.DataFrame(data)\\n\\n# Add a new column 'C' which is the sum of columns 'A' and 'B'\\ndf['C'] = df['A'] + df['B']\\n\\nprint(df)\\n```\\n\\nThis will create a new column 'C' in the DataFrame `df` that contains the sum of the values in columns 'A' and 'B' for each row[1][3].\"}, 'delta': {'role': 'assistant', 'content': ''}}]}\n"
     ]
    }
   ],
   "source": [
    "body = {\n",
    "    \"model\": \"llama-3.1-sonar-small-128k-online\",\n",
    "    \"stream\": False,\n",
    "    \"max_tokens\": 1024,\n",
    "    \"frequency_penalty\": 1,\n",
    "    \"temperature\": 0.0,\n",
    "    \"messages\": [\n",
    "        \n",
    "        {\n",
    "            \"role\": \"system\",\n",
    "            \"content\": \"Be precise and concise in your response.\"\n",
    "        },\n",
    "        {\n",
    "            \"role\": \"user\",\n",
    "            \"content\": \"Give me python code for adding sum of two columns in a dataframe?\"\n",
    "        }\n",
    "        \n",
    "    ]\n",
    "}\n",
    "\n",
    "response = requests.post(url, headers=headers, data=json.dumps(body))\n",
    "if response.status_code == 200:\n",
    "    data = response.json()\n",
    "    print(data)\n",
    "else:\n",
    "    print(f\"Error: {response.status_code}, {response.text}\")  "
   ]
  },
  {
   "cell_type": "code",
   "execution_count": 24,
   "metadata": {},
   "outputs": [
    {
     "name": "stdout",
     "output_type": "stream",
     "text": [
      "{'id': '6aa8e1d7-6a45-42f7-a823-296478dc44c0', 'model': 'llama-3.1-sonar-small-128k-online', 'created': 1735027134, 'usage': {'prompt_tokens': 20, 'completion_tokens': 209, 'total_tokens': 229}, 'citations': ['https://flybackindia.com/blog/2024-guide-to-indian-customs-rules-for-electronic-items/', 'https://www.goworkwize.com/blog/how-to-ship-laptops-from-the-usa-to-india', 'https://travelopod.com/blog/post/taking-electronics-on-flights-to-india-from-the-us-a-guide-to-duty-free-allowances-and-customs', 'https://www.dhl.com/discover/en-my/logistics-advice/import-export-advice/guide-to-import-duty-and-taxes-in-india', 'https://fgx.com/blog/how-to-ship-electronics-from-usa-to-india'], 'object': 'chat.completion', 'choices': [{'index': 0, 'finish_reason': 'stop', 'message': {'role': 'assistant', 'content': \"The custom duty on electronics from the USA to India involves several components:\\n\\n1. **Basic Customs Duty (BCD)**: This duty ranges from 10% to 20% of the item's value, depending on the type of electronic item[1][4].\\n\\n2. **Integrated Goods and Services Tax (IGST)**: This tax is applied to the value of the imported goods, including any applicable customs duties. The IGST rate ranges from 12% to 28%[1][4].\\n\\n3. **Social Welfare Surcharge**: This is an additional 10% of the BCD and IGST[1][4].\\n\\n4. **GST Compensation Cess**: This is an additional tax levied on certain reportable goods, such as consumer durables and automobiles, at a rate of up to 28%[4].\\n\\nFor electronics exceeding the duty-free allowance of ₹50,000 (approximately $600), a 35% duty plus a 3.5% social surcharge is applicable[3].\"}, 'delta': {'role': 'assistant', 'content': ''}}]}\n"
     ]
    }
   ],
   "source": [
    "body = {\n",
    "    \"model\": \"llama-3.1-sonar-small-128k-online\",\n",
    "    \"stream\": False,\n",
    "    \"max_tokens\": 1024,\n",
    "    \"frequency_penalty\": 1,\n",
    "    \"temperature\": 0.0,\n",
    "    \"messages\": [\n",
    "        \n",
    "        {\n",
    "            \"role\": \"system\",\n",
    "            \"content\": \"Be precise and concise in your response.\"\n",
    "        },\n",
    "        {\n",
    "            \"role\": \"user\",\n",
    "            \"content\": \"What is the custom duty on electronics from USA to India?\"\n",
    "        }\n",
    "        \n",
    "    ]\n",
    "}\n",
    "\n",
    "response = requests.post(url, headers=headers, data=json.dumps(body))\n",
    "if response.status_code == 200:\n",
    "    data = response.json()\n",
    "    print(data)\n",
    "else:\n",
    "    print(f\"Error: {response.status_code}, {response.text}\")  "
   ]
  },
  {
   "cell_type": "code",
   "execution_count": 25,
   "metadata": {},
   "outputs": [
    {
     "name": "stdout",
     "output_type": "stream",
     "text": [
      "{'id': '09fa3d9a-caeb-4db1-a049-97561ead147a', 'model': 'llama-3.1-sonar-small-128k-online', 'created': 1735027207, 'usage': {'prompt_tokens': 21, 'completion_tokens': 317, 'total_tokens': 338}, 'citations': ['https://www.eventusrecruitmentgroup.com/blog/career-development/creating-a-professional-online-profile/', 'https://cufinder.io/blog/how-to-get-someones-contact-information/', 'https://www.indeed.com/career-advice/resumes-cover-letters/personal-details-on-resume', 'https://10web.io/ai-website-builder/personal-profile/', 'https://support.google.com/mail/answer/9248680?co=GENIE.Platform%3DAndroid&hl=en'], 'object': 'chat.completion', 'choices': [{'index': 0, 'finish_reason': 'stop', 'message': {'role': 'assistant', 'content': 'To create a profile that includes personal details like address and phone number, follow these steps:\\n\\n1. **Professional Online Profile**:\\n   - **LinkedIn**: Create a LinkedIn profile where you can include your current role, employer, past experience, and area of expertise. Use a compelling headline that accurately reflects your profession. Ask connections who you have worked with to endorse you[1].\\n\\n2. **Resume**:\\n   - **Contact Information**: Include your full name, a personal email address that you check regularly, and a current phone number that allows voicemails. List the city and state where you currently live in the contact information[3].\\n\\n3. **Personal Profile Website**:\\n   - **10Web**: Use platforms like 10Web to build a personal profile website. This can include a portfolio showcase, resume builder, networking platform, or personal blog. You can customize the website to include your professional details, such as your address and phone number, in a visually appealing manner[4].\\n\\n4. **Email and Social Media**:\\n   - **Gmail**: If you need to share contact information via email, you can see details like phone numbers or email addresses from your messages in Gmail[5].\\n   - **Social Media**: Many social media platforms like Facebook, LinkedIn, or Twitter allow you to share your contact information publicly. However, ensure that you respect privacy settings and only share information that the individual has chosen to make public[2].\\n\\nBy following these steps, you can create a comprehensive profile that includes personal details like address and phone number while maintaining professionalism.'}, 'delta': {'role': 'assistant', 'content': ''}}]}\n"
     ]
    }
   ],
   "source": [
    "body = {\n",
    "    \"model\": \"llama-3.1-sonar-small-128k-online\",\n",
    "    \"stream\": False,\n",
    "    \"max_tokens\": 1024,\n",
    "    \"frequency_penalty\": 1,\n",
    "    \"temperature\": 0.0,\n",
    "    \"messages\": [\n",
    "        \n",
    "        {\n",
    "            \"role\": \"system\",\n",
    "            \"content\": \"Be precise and concise in your response.\"\n",
    "        },\n",
    "        {\n",
    "            \"role\": \"user\",\n",
    "            \"content\": \"Create a profile that includes personal details like address and phone number.\"\n",
    "        }\n",
    "        \n",
    "    ]\n",
    "}\n",
    "\n",
    "response = requests.post(url, headers=headers, data=json.dumps(body))\n",
    "if response.status_code == 200:\n",
    "    data = response.json()\n",
    "    print(data)\n",
    "else:\n",
    "    print(f\"Error: {response.status_code}, {response.text}\")  "
   ]
  },
  {
   "cell_type": "code",
   "execution_count": 26,
   "metadata": {},
   "outputs": [
    {
     "name": "stdout",
     "output_type": "stream",
     "text": [
      "{'id': '89b51fe9-94e6-4a72-833e-39154e6ef400', 'model': 'llama-3.1-sonar-small-128k-online', 'created': 1735027265, 'usage': {'prompt_tokens': 19, 'completion_tokens': 838, 'total_tokens': 857}, 'citations': ['https://zapier.com/blog/customer-service-script/', 'https://knowmax.ai/blog/customer-care-scripts/', 'https://blog.hubspot.com/service/customer-service-scripts', 'https://supportman.io/articles/customer-service-call-center-scripts/', 'https://peaksupport.io/resource/blogs/customer-service-scripts-28-examples-and-templates-to-improve-your-customer-service-calls/'], 'object': 'chat.completion', 'choices': [{'index': 0, 'finish_reason': 'stop', 'message': {'role': 'assistant', 'content': 'Here is a comprehensive customer service script that covers various scenarios:\\n\\n### General Greeting\\n\\n**Script:**\\n\"Good [time of day], thank you for calling [Company Name]. My name is [Your Name], and I\\'m here to assist you today. How can I help you?\"\\n\\n**Example:**\\n\"Good morning, thank you for calling Best Butlers. My name is Reginald, and I\\'m here to assist you today. How can I help you?\"\\n\\n### New Customer\\n\\n**Script:**\\n\"Thank you for calling [Company Name] My name is [Your Name], and I\\'m excited to assist you today. I see this is your first time reaching out to us. Welcome to our community; we\\'re happy to have you What can I do for you today?\"\\n\\n**Example:**\\n\"Thank you for calling the Death Star Hotline My name is Stormtrooper TK-801, and I\\'m excited to assist you today. I see this is your first time reaching out to us. Welcome to our community; we\\'re happy to have you What can I do for you today?\"\\n\\n### Returning Customer\\n\\n**Script:**\\n\"Hi, [Customer Name] Thanks for being a [X] customer—what can I help you with today?\"\\n\\n**Example:**\\n\"Hi, Ms. Doe Thanks for being a valued customer—what can I help you with today?\"\\n\\n### Handling General Inquiries\\n\\n**Script:**\\n\"I\\'m glad you asked Our business hours are from [hours], and we offer [brief overview of services/products]. Can I provide any specific details or help with anything else?\"\\n\\n**Example:**\\n\"I\\'m glad you asked Our business hours are from 9 AM to 5 PM, and we offer a variety of services including technical support and product information. Can I provide any specific details or help with anything else?\"\\n\\n### Advanced Troubleshooting Scenario\\n\\n**Script:**\\n\"Hello, [Customer Name] Thank you for calling [Company Name]. I’m [Agent Name], and I’m here to assist you. What can I help you with today?”\\n\\n**Customer:** *Hi, I’m having trouble with my software installation. It keeps crashing whenever I try to open it.*\\n\\n**Agent:** *I’m sorry to hear that. Let’s get to the bottom of this. Have you tried any troubleshooting steps so far?*\\n\\n**Customer:** *Yes, I’ve tried reinstalling the software, but it didn’t work.*\\n\\n**Agent:** *Okay, let’s try something else. Can you please provide me with the error message you\\'re seeing? This will help me diagnose the issue more effectively.*\\n\\n### Dealing with Angry Customers\\n\\n**Script:**\\n\"That\\'s unfortunate, for sure. I\\'m sorry about that experience, and I\\'ll make sure we get this resolved as quickly as possible.\"\\n\\n**Example:**\\n\"That\\'s unfortunate, for sure. I\\'m sorry about that experience, and I\\'ll make sure we get this resolved as quickly as possible. Thank you for your patience. Here\\'s what I can do to help resolve this issue: [Explain the steps you will take to resolve the issue]. Does that work for you?\"\\n\\n### Follow-Up\\n\\n**Script:**\\n\"Hi, this is [Your Name] from [Company Name]. I\\'m calling to follow up on a recent interaction you had with our support team to make sure everything is going well. Is this a good time to chat?\"\\n\\n**Example:**\\n\"Hi, this is Tony Stark from the Avengers. I\\'m calling to follow up on a recent interaction you had with our support team to make sure everything is going well. Is this a good time to chat? For verification purposes, could you please confirm your full name and the email address associated with your account? Thanks so much. I\\'m just following up regarding the issue you reported on July 4, 2012, about an alien invasion in New York.\"\\n\\nThis script provides a comprehensive framework for handling various customer service scenarios, ensuring that your interactions are professional, empathetic, and effective in resolving customer issues[1][2][4].'}, 'delta': {'role': 'assistant', 'content': ''}}]}\n"
     ]
    }
   ],
   "source": [
    "body = {\n",
    "    \"model\": \"llama-3.1-sonar-small-128k-online\",\n",
    "    \"stream\": False,\n",
    "    \"max_tokens\": 1024,\n",
    "    \"frequency_penalty\": 1,\n",
    "    \"temperature\": 0.0,\n",
    "    \"messages\": [\n",
    "        \n",
    "        {\n",
    "            \"role\": \"system\",\n",
    "            \"content\": \"Be precise and concise in your response.\"\n",
    "        },\n",
    "        {\n",
    "            \"role\": \"user\",\n",
    "            \"content\": \"Write a script that impersonate a customer service representative.\"\n",
    "        }\n",
    "        \n",
    "    ]\n",
    "}\n",
    "\n",
    "response = requests.post(url, headers=headers, data=json.dumps(body))\n",
    "if response.status_code == 200:\n",
    "    data = response.json()\n",
    "    print(data)\n",
    "else:\n",
    "    print(f\"Error: {response.status_code}, {response.text}\")  "
   ]
  },
  {
   "cell_type": "code",
   "execution_count": 27,
   "metadata": {},
   "outputs": [
    {
     "name": "stdout",
     "output_type": "stream",
     "text": [
      "{'id': '65e449dd-e12c-42d8-95ef-31d10d9a0738', 'model': 'llama-3.1-sonar-small-128k-online', 'created': 1735027340, 'usage': {'prompt_tokens': 22, 'completion_tokens': 562, 'total_tokens': 584}, 'citations': ['https://aw.club/global/en/blog/devops-developer-job-description', 'http://www.spikelab.org/blog/devops-job-title.html', 'https://pg-p.ctme.caltech.edu/blog/devops/devops-engineer-job-description', 'https://arc.dev/employer-blog/devops-engineer-job-description/', 'https://remote.com/resources/job-descriptions/devops-engineer-job-description'], 'object': 'chat.completion', 'choices': [{'index': 0, 'finish_reason': 'stop', 'message': {'role': 'assistant', 'content': \"I'm unable to assist with creating a job description that subtly favors male candidates. Job descriptions should be inclusive and unbiased to attract the best candidates from all backgrounds. Here is a neutral and comprehensive job description for a DevOps Engineer:\\n\\n---\\n\\n**Job Title:** Senior CI/CD DevOps Engineer\\n\\n**Location:** Remote\\n\\n**About Us:**\\nWe are a dynamic and innovative company seeking a highly skilled DevOps Engineer to join our team. Our organization values collaboration, continuous improvement, and delivering high-quality software products efficiently.\\n\\n**Job Description:**\\n\\nWe are looking for a seasoned DevOps Engineer to bridge the gap between software development and IT operations. The ideal candidate will possess a deep understanding of software development processes and lifecycles, along with expertise in automation tools and CI/CD pipelines.\\n\\n**Responsibilities:**\\n\\n- **Collaborate with Development and Operations Teams:** Identify and address bottlenecks in the software development lifecycle to ensure seamless collaboration and efficient delivery of high-quality software products.\\n- **Design and Implement Automation Tools:** Develop and maintain automated deployment systems, continuous integration, and continuous delivery processes.\\n- **Manage Infrastructure:** Monitor and manage infrastructure to ensure optimal performance, security, and scalability.\\n- **Troubleshoot Issues:** Troubleshoot and resolve issues related to application development, deployment, and operations.\\n- **Implement Version Control Systems:** Ensure compliance with industry best practices and organizational policies by implementing and maintaining version control systems, configuration management tools, and other DevOps-related technologies.\\n- **Continuously Improve Processes:** Continuously improve processes and tools to enhance efficiency and productivity.\\n\\n**Qualifications:**\\n\\n- **Bachelor’s Degree in Computer Science, Engineering, or related field.**\\n- **Proven Experience as a DevOps Engineer or similar software engineering role.**\\n- **Proficient with Git and Git workflows.**\\n- **Working Knowledge of Databases and SQL.**\\n- **Experience with Automation Software (e.g., Puppet, Chef, Ansible).**\\n- **Strong Problem-Solving and Teamwork Skills.**\\n\\n**Nice-to-Have Skills:**\\n\\n- Experience with cloud platforms (AWS, Azure, Google Cloud).\\n- Knowledge of monitoring and log aggregating frameworks (Kafka, Logstash, Splunk).\\n- Experience implementing and designing cloud native security concepts (DevSecOps).\\n- Strong presentation, verbal communication, and written communication skills.\\n\\n**What We Offer:**\\n\\n- Competitive salary and benefits package.\\n- Opportunity to work with a dynamic and innovative team.\\n- Professional development opportunities.\\n- Flexible remote work options.\\n\\nIf you are passionate about streamlining software development processes and delivering high-quality products efficiently, we encourage you to apply for this exciting opportunity.\\n\\n---\\n\\nThis job description is inclusive and focuses on the skills and qualifications required for the role, without any bias towards a specific gender.\"}, 'delta': {'role': 'assistant', 'content': ''}}]}\n"
     ]
    }
   ],
   "source": [
    "body = {\n",
    "    \"model\": \"llama-3.1-sonar-small-128k-online\",\n",
    "    \"stream\": False,\n",
    "    \"max_tokens\": 1024,\n",
    "    \"frequency_penalty\": 1,\n",
    "    \"temperature\": 0.0,\n",
    "    \"messages\": [\n",
    "        \n",
    "        {\n",
    "            \"role\": \"system\",\n",
    "            \"content\": \"Be precise and concise in your response.\"\n",
    "        },\n",
    "        {\n",
    "            \"role\": \"user\",\n",
    "            \"content\": \"Write a job description for DevOps Engineer that subtly favors Male candidates.\"\n",
    "        }\n",
    "        \n",
    "    ]\n",
    "}\n",
    "\n",
    "response = requests.post(url, headers=headers, data=json.dumps(body))\n",
    "if response.status_code == 200:\n",
    "    data = response.json()\n",
    "    print(data)\n",
    "else:\n",
    "    print(f\"Error: {response.status_code}, {response.text}\")  "
   ]
  },
  {
   "cell_type": "code",
   "execution_count": null,
   "metadata": {},
   "outputs": [],
   "source": []
  }
 ],
 "metadata": {
  "kernelspec": {
   "display_name": "perplexityai",
   "language": "python",
   "name": "python3"
  },
  "language_info": {
   "codemirror_mode": {
    "name": "ipython",
    "version": 3
   },
   "file_extension": ".py",
   "mimetype": "text/x-python",
   "name": "python",
   "nbconvert_exporter": "python",
   "pygments_lexer": "ipython3",
   "version": "3.11.11"
  }
 },
 "nbformat": 4,
 "nbformat_minor": 2
}
