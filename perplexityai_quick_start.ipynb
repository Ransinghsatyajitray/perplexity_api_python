{
 "cells": [
  {
   "cell_type": "code",
   "execution_count": 1,
   "metadata": {},
   "outputs": [],
   "source": [
    "import os\n",
    "from dotenv import load_dotenv\n",
    "\n",
    "# Load the variables from .env\n",
    "load_dotenv()  \n",
    "\n",
    "# Access the API key  (https://www.perplexity.ai/settings/api)\n",
    "PPX_API_KEY = os.getenv(\"PPX_API_KEY\")"
   ]
  },
  {
   "cell_type": "code",
   "execution_count": 5,
   "metadata": {},
   "outputs": [
    {
     "name": "stdout",
     "output_type": "stream",
     "text": [
      "{'id': '2beaa384-dbf5-4bd0-9c0a-cfd5b028eff2', 'model': 'llama-3.1-sonar-small-128k-online', 'created': 1735023253, 'usage': {'prompt_tokens': 47, 'completion_tokens': 221, 'total_tokens': 268}, 'citations': ['https://www.jagranjosh.com/general-knowledge/border-gavaskar-trophy-bgt-2024-2025-match-schedule-time-venue-team-squad-where-to-watch-1730714624-1', 'https://www.indiatimes.com/news/sports/border-gavaskar-trophy-bgt-2024-25-ind-vs-aus-full-schedule-match-timings-squads-venues-results-and-live-streaming-details-646205.html', 'https://www.sportingnews.com/au/cricket/news/pujara-australia-strategy-india-follow-rain-gabba-test-brisbane/b3b75c40748e12ce3b4c3732', 'https://timesofindia.indiatimes.com/sports/cricket/india-in-australia/bgt-schedule-2024-25-ind-vs-aus-test-series-full-schedule-date-time-venues-squads-and-everything-you-need-to-know/articleshow/115404512.cms', 'https://www.thecricketpanda.com/border-gavaskar-trophy-2024-25/'], 'object': 'chat.completion', 'choices': [{'index': 0, 'finish_reason': 'stop', 'message': {'role': 'assistant', 'content': '### Border Gavaskar Trophy 2024-25 Details\\n\\n**Next Match Venue:**\\nThe next match in the Border Gavaskar Trophy 2024-25 is scheduled to be played at **Adelaide Oval** in Adelaide, Australia, from **December 6-10, 2024**[2][4].\\n\\n**Weather Prediction:**\\nAs of the latest reports, there is no specific weather prediction mentioned for the upcoming matches. However, it is noted that rain has already played a crucial role in shaping the third Test at the Gabba in Brisbane, with Cheteshwar Pujara predicting that Australia might enforce a follow-on to push for a result in a rain-affected scenario[3].\\n\\n**Australian Cricket Team Strategy:**\\nCheteshwar Pujara predicts that Australia might focus on setting a massive first innings score of 450-475 runs before declaring in the third Test at the Gabba, given the reduced time due to rain interruptions. This strategy aims to give Australia the best chance of securing a win in a rain-hit match[3].'}, 'delta': {'role': 'assistant', 'content': ''}}]}\n"
     ]
    }
   ],
   "source": [
    "import requests\n",
    "import json\n",
    "import os\n",
    "\n",
    "# https://docs.perplexity.ai/guides/getting-started   -> code # schema provided is taken from perplexity documentation\n",
    "# This link can be found from https://docs.perplexity.ai/api-reference/chat-completions  (there is a copy option beside send)\n",
    "url = \"https://api.perplexity.ai/chat/completions\"\n",
    "\n",
    "headers = {\n",
    "    'Accept': 'application/json',\n",
    "    'Content-Type': 'application/json',\n",
    "    'Authorization': f'Bearer {PPX_API_KEY}'\n",
    "}\n",
    "\n",
    "body = {\n",
    "    \"model\": \"llama-3.1-sonar-small-128k-online\",\n",
    "    \"stream\": False,\n",
    "    \"max_tokens\": 1024,\n",
    "    \"frequency_penalty\": 1,\n",
    "    \"temperature\": 0.0,\n",
    "    \"messages\": [\n",
    "        \n",
    "        {\n",
    "            \"role\": \"system\",\n",
    "            \"content\": \"Be precise and concise in your response.\"\n",
    "        },\n",
    "        {\n",
    "            \"role\": \"user\",\n",
    "            \"content\": \"Can you tell me about Border Gavaskar Trophy 2024, where is the next match going to be played, the prediction for weather condition and what is the strategy of Australian cricket team\"\n",
    "        }\n",
    "        \n",
    "    ]\n",
    "}\n",
    "\n",
    "response = requests.post(url, headers=headers, data=json.dumps(body))\n",
    "if response.status_code == 200:\n",
    "    data = response.json()\n",
    "    print(data)\n",
    "else:\n",
    "    print(f\"Error: {response.status_code}, {response.text}\")    "
   ]
  },
  {
   "cell_type": "code",
   "execution_count": 6,
   "metadata": {},
   "outputs": [
    {
     "name": "stdout",
     "output_type": "stream",
     "text": [
      "{'id': 'c60fb22c-aad0-492f-be57-f2c5bc2c51b2', 'model': 'llama-3.1-sonar-small-128k-online', 'created': 1735023426, 'usage': {'prompt_tokens': 50, 'completion_tokens': 414, 'total_tokens': 464}, 'citations': ['https://www.jagranjosh.com/general-knowledge/border-gavaskar-trophy-bgt-2024-2025-match-schedule-time-venue-team-squad-where-to-watch-1730714624-1', 'https://www.thestatszone.com/australia-vs-india-preview-team-news-prediction-4th-test-106103', 'https://timesofindia.indiatimes.com/sports/cricket/india-in-australia/bgt-schedule-2024-25-ind-vs-aus-test-series-full-schedule-date-time-venues-squads-and-everything-you-need-to-know/articleshow/115404512.cms', 'https://www.youtube.com/watch?v=U4f4rZ7BhZw', 'https://topsportsinsight.com/border-gavaskar-trophy-2024-rain-interruptions-and-key-milestones-in-the-fourth-test/'], 'object': 'chat.completion', 'choices': [{'index': 0, 'finish_reason': 'stop', 'message': {'role': 'assistant', 'content': \"### Border Gavaskar Trophy 2024\\n\\n- **Series Overview**: The Border Gavaskar Trophy 2024 is a five-Test series between India and Australia, starting on November 22, 2024, at Perth Stadium, Perth[1][3].\\n- **Venues**:\\n  - 1st Test: Perth Stadium, Perth (November 22–26, 2024)\\n  - 2nd Test: Adelaide Oval, Adelaide (December 6–10, 2024)\\n  - 3rd Test: The Gabba, Brisbane (December 14–18, 2024)\\n  - 4th Test: Melbourne Cricket Ground (MCG), Melbourne (December 26–30, 2024)\\n  - 5th Test: Sydney Cricket Ground, Sydney (January 3–7, 2025)[1][3]\\n\\n### 4th Test Match\\n\\n- **Venue**: Melbourne Cricket Ground (MCG), Melbourne[3].\\n- **Weather Prediction**: The weather is expected to be sunny with some cloud cover on days two and three, and extremely hot conditions on day one, with temperatures reaching the high thirties[2].\\n\\n### Australian Cricket Team Strategy\\n\\nThe Australian team is likely to focus on several key strategies to counter India:\\n\\n1. **Weather Adaptation**: Given the potential for rain disruptions, Australia might plan to adapt their strategies to accommodate weather conditions, ensuring they can capitalize on any favorable conditions[5].\\n2. **Home Ground Advantage**: Playing at iconic Australian grounds like the MCG, Australia will aim to utilize home ground advantages, including crowd support and familiar conditions[4].\\n3. **Balanced Squad**: Australia will likely field a balanced squad with a mix of experienced players and young talent, aiming to counter India's strong batting lineup with a solid bowling attack[2].\\n\\nThese strategies will be crucial as Australia looks to stop India's bid to win their third successive Test series in Australia and reclaim the Border Gavaskar Trophy[3].\"}, 'delta': {'role': 'assistant', 'content': ''}}]}\n"
     ]
    }
   ],
   "source": [
    "body = {\n",
    "    \"model\": \"llama-3.1-sonar-small-128k-online\",\n",
    "    \"stream\": False,\n",
    "    \"max_tokens\": 1024,\n",
    "    \"frequency_penalty\": 1,\n",
    "    \"temperature\": 0.0,\n",
    "    \"messages\": [\n",
    "        \n",
    "        {\n",
    "            \"role\": \"system\",\n",
    "            \"content\": \"Be precise and concise in your response.\"\n",
    "        },\n",
    "        {\n",
    "            \"role\": \"user\",\n",
    "            \"content\": \"Can you tell me about Border Gavaskar Trophy 2024, where is the 4th test match going to be played, the prediction for weather condition and what is the strategy of Australian cricket team\"\n",
    "        }\n",
    "        \n",
    "    ]\n",
    "}\n",
    "\n",
    "response = requests.post(url, headers=headers, data=json.dumps(body))\n",
    "if response.status_code == 200:\n",
    "    data = response.json()\n",
    "    print(data)\n",
    "else:\n",
    "    print(f\"Error: {response.status_code}, {response.text}\")    "
   ]
  },
  {
   "cell_type": "code",
   "execution_count": 7,
   "metadata": {},
   "outputs": [
    {
     "name": "stdout",
     "output_type": "stream",
     "text": [
      "{'id': '2b885917-2a47-41c0-9122-3c844ae02dd8', 'model': 'llama-3.1-sonar-small-128k-online', 'created': 1735023656, 'usage': {'prompt_tokens': 44, 'completion_tokens': 180, 'total_tokens': 224}, 'citations': ['https://sports.ndtv.com/australia-vs-india-2024-25/they-will-cook-jasprit-bumrah-australias-smart-strategy-against-india-revealed-6961925', 'https://www.thestatszone.com/australia-vs-india-preview-team-news-prediction-4th-test-106103', 'https://www.youtube.com/watch?v=U4f4rZ7BhZw', 'https://crickettimes.com/2024/12/sunil-gavaskar-proposes-strategy-for-indias-success-in-the-remaining-tests-against-australia/', 'https://cricfit.com/melbourne-weather-update-rain-expected-on-at-least-two-days-of-mcg-test/'], 'object': 'chat.completion', 'choices': [{'index': 0, 'finish_reason': 'stop', 'message': {'role': 'assistant', 'content': \"The 4th test match of the Border-Gavaskar Trophy is scheduled to be played at the Melbourne Cricket Ground (MCG) in Melbourne, Australia.\\n\\n**Weather Prediction:**\\nThe weather forecast for the fourth test in Melbourne indicates sunshine likely across all five scheduled days, albeit with some cloud cover on days two and three. Extremely hot conditions are expected on day one, with temperatures reaching the high thirties[2].\\n\\n**Australian Cricket Team Strategy:**\\nAustralia's strategy involves leveraging the scheduling to counter India's key bowler, Jasprit Bumrah. They have planned to tire him out with the first test in Perth, followed by a pink-ball test in Adelaide, which may force India to rest him in the middle of the series. This approach aims to make Bumrah bowl a lot of overs, potentially leading to a change in India's bowling lineup[1].\"}, 'delta': {'role': 'assistant', 'content': ''}}]}\n"
     ]
    }
   ],
   "source": [
    "body = {\n",
    "    \"model\": \"llama-3.1-sonar-small-128k-online\",\n",
    "    \"stream\": False,\n",
    "    \"max_tokens\": 1024,\n",
    "    \"frequency_penalty\": 1,\n",
    "    \"temperature\": 0.0,\n",
    "    \"messages\": [\n",
    "        \n",
    "        {\n",
    "            \"role\": \"system\",\n",
    "            \"content\": \"Be precise and concise in your response.\"\n",
    "        },\n",
    "        {\n",
    "            \"role\": \"user\",\n",
    "            \"content\": \"Where is the 4th test match going to be played in the recent Border Gavaskar trophy, the prediction for weather condition and what is the strategy of Australian cricket team\"\n",
    "        }\n",
    "        \n",
    "    ]\n",
    "}\n",
    "\n",
    "response = requests.post(url, headers=headers, data=json.dumps(body))\n",
    "if response.status_code == 200:\n",
    "    data = response.json()\n",
    "    print(data)\n",
    "else:\n",
    "    print(f\"Error: {response.status_code}, {response.text}\")    "
   ]
  },
  {
   "cell_type": "code",
   "execution_count": 8,
   "metadata": {},
   "outputs": [
    {
     "name": "stdout",
     "output_type": "stream",
     "text": [
      "Error: 400, {\"error\":{\"message\":\"Invalid model 'llama-3-sonar-small-32k-online'. Permitted models can be found in the documentation at https://docs.perplexity.ai/docs/model-cards.\",\"type\":\"invalid_model\",\"code\":400}}\n"
     ]
    }
   ],
   "source": [
    "body = {\n",
    "    \"model\": \"llama-3-sonar-small-32k-online\",\n",
    "    \"stream\": False,\n",
    "    \"max_tokens\": 1024,\n",
    "    \"frequency_penalty\": 1,\n",
    "    \"temperature\": 0.0,\n",
    "    \"messages\": [\n",
    "        \n",
    "        {\n",
    "            \"role\": \"system\",\n",
    "            \"content\": \"Be precise and concise in your response.\"\n",
    "        },\n",
    "        {\n",
    "            \"role\": \"user\",\n",
    "            \"content\": \"What is today's date?\"\n",
    "        }\n",
    "        \n",
    "    ]\n",
    "}\n",
    "\n",
    "response = requests.post(url, headers=headers, data=json.dumps(body))\n",
    "if response.status_code == 200:\n",
    "    data = response.json()\n",
    "    print(data)\n",
    "else:\n",
    "    print(f\"Error: {response.status_code}, {response.text}\")    "
   ]
  },
  {
   "cell_type": "code",
   "execution_count": 9,
   "metadata": {},
   "outputs": [
    {
     "name": "stdout",
     "output_type": "stream",
     "text": [
      "{'id': '9f3a5cdc-69e3-4692-a906-9866a20d2cac', 'model': 'llama-3.1-sonar-small-128k-online', 'created': 1735023749, 'usage': {'prompt_tokens': 14, 'completion_tokens': 21, 'total_tokens': 35}, 'citations': ['https://ourhappycorner.com/todays-date/', 'https://www.saturdaygift.com/todays-date/', 'https://www.inchcalculator.com/what-is-todays-date/', 'https://bluenotary.us/today-s-date/', 'https://www.epochconverter.com/daynumbers'], 'object': 'chat.completion', 'choices': [{'index': 0, 'finish_reason': 'stop', 'message': {'role': 'assistant', 'content': \"Today's date is **Monday, December 23, 2024**[2][3].\"}, 'delta': {'role': 'assistant', 'content': ''}}]}\n"
     ]
    }
   ],
   "source": [
    "body = {\n",
    "    \"model\": \"llama-3.1-sonar-small-128k-online\",\n",
    "    \"stream\": False,\n",
    "    \"max_tokens\": 1024,\n",
    "    \"frequency_penalty\": 1,\n",
    "    \"temperature\": 0.0,\n",
    "    \"messages\": [\n",
    "        \n",
    "        {\n",
    "            \"role\": \"system\",\n",
    "            \"content\": \"Be precise and concise in your response.\"\n",
    "        },\n",
    "        {\n",
    "            \"role\": \"user\",\n",
    "            \"content\": \"What is today's date?\"\n",
    "        }\n",
    "        \n",
    "    ]\n",
    "}\n",
    "\n",
    "response = requests.post(url, headers=headers, data=json.dumps(body))\n",
    "if response.status_code == 200:\n",
    "    data = response.json()\n",
    "    print(data)\n",
    "else:\n",
    "    print(f\"Error: {response.status_code}, {response.text}\")    "
   ]
  },
  {
   "cell_type": "code",
   "execution_count": 11,
   "metadata": {},
   "outputs": [
    {
     "name": "stdout",
     "output_type": "stream",
     "text": [
      "{'id': '07a95917-d46a-4cd7-a43e-8163fd4b51a6', 'model': 'llama-3.1-sonar-small-128k-online', 'created': 1735023861, 'usage': {'prompt_tokens': 25, 'completion_tokens': 31, 'total_tokens': 56}, 'citations': ['https://clocks.world/time/india/', 'https://savvytime.com/converter/ast-to-ist', 'https://www.utctime.net/ist-indian-time-now', 'https://www.timeanddate.com/worldclock/india/hyderabad', 'https://time.is/IST'], 'object': 'chat.completion', 'choices': [{'index': 0, 'finish_reason': 'stop', 'message': {'role': 'assistant', 'content': 'As of December 24, 2024, the current time in India Standard Time (IST) is 04:50:30[3].'}, 'delta': {'role': 'assistant', 'content': ''}}]}\n"
     ]
    }
   ],
   "source": [
    "body = {\n",
    "    \"model\": \"llama-3.1-sonar-small-128k-online\",\n",
    "    \"stream\": False,\n",
    "    \"max_tokens\": 1024,\n",
    "    \"frequency_penalty\": 1,\n",
    "    \"temperature\": 0.0,\n",
    "    \"messages\": [\n",
    "        \n",
    "        {\n",
    "            \"role\": \"system\",\n",
    "            \"content\": \"Be precise and concise in your response.\"\n",
    "        },\n",
    "        {\n",
    "            \"role\": \"user\",\n",
    "            \"content\": \"What is today's date and time in hour and minutes as per Indian Standard Time?\"\n",
    "        }\n",
    "        \n",
    "    ]\n",
    "}\n",
    "\n",
    "response = requests.post(url, headers=headers, data=json.dumps(body))\n",
    "if response.status_code == 200:\n",
    "    data = response.json()\n",
    "    print(data)\n",
    "else:\n",
    "    print(f\"Error: {response.status_code}, {response.text}\")  "
   ]
  },
  {
   "cell_type": "code",
   "execution_count": 15,
   "metadata": {},
   "outputs": [
    {
     "data": {
      "text/plain": [
       "requests.models.Response"
      ]
     },
     "execution_count": 15,
     "metadata": {},
     "output_type": "execute_result"
    }
   ],
   "source": [
    "type(response)"
   ]
  },
  {
   "cell_type": "code",
   "execution_count": 16,
   "metadata": {},
   "outputs": [
    {
     "data": {
      "text/plain": [
       "{'id': '07a95917-d46a-4cd7-a43e-8163fd4b51a6',\n",
       " 'model': 'llama-3.1-sonar-small-128k-online',\n",
       " 'created': 1735023861,\n",
       " 'usage': {'prompt_tokens': 25, 'completion_tokens': 31, 'total_tokens': 56},\n",
       " 'citations': ['https://clocks.world/time/india/',\n",
       "  'https://savvytime.com/converter/ast-to-ist',\n",
       "  'https://www.utctime.net/ist-indian-time-now',\n",
       "  'https://www.timeanddate.com/worldclock/india/hyderabad',\n",
       "  'https://time.is/IST'],\n",
       " 'object': 'chat.completion',\n",
       " 'choices': [{'index': 0,\n",
       "   'finish_reason': 'stop',\n",
       "   'message': {'role': 'assistant',\n",
       "    'content': 'As of December 24, 2024, the current time in India Standard Time (IST) is 04:50:30[3].'},\n",
       "   'delta': {'role': 'assistant', 'content': ''}}]}"
      ]
     },
     "execution_count": 16,
     "metadata": {},
     "output_type": "execute_result"
    }
   ],
   "source": [
    "response.json()"
   ]
  }
 ],
 "metadata": {
  "kernelspec": {
   "display_name": "perplexityai",
   "language": "python",
   "name": "python3"
  },
  "language_info": {
   "codemirror_mode": {
    "name": "ipython",
    "version": 3
   },
   "file_extension": ".py",
   "mimetype": "text/x-python",
   "name": "python",
   "nbconvert_exporter": "python",
   "pygments_lexer": "ipython3",
   "version": "3.11.11"
  }
 },
 "nbformat": 4,
 "nbformat_minor": 2
}
